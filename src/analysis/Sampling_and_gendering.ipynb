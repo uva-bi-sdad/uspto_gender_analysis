{
 "cells": [
  {
   "cell_type": "code",
   "execution_count": 2,
   "metadata": {},
   "outputs": [],
   "source": [
    "import pandas as pd"
   ]
  },
  {
   "cell_type": "markdown",
   "metadata": {},
   "source": [
    "<h2>Reading in Data</h2>|"
   ]
  },
  {
   "cell_type": "code",
   "execution_count": 3,
   "metadata": {},
   "outputs": [],
   "source": [
    "pharma_inventors=pd.read_csv(\"data/working/pharma_inventors.csv\") #Reading in Pharma inventors as extracted from the PatentsView Dataset by Kathryn\n",
    "civil_inventors=pd.read_csv(\"data/working/civil_inventors.csv\") #Reading in Civil inventors as extracted from the PatentsView Dataset by Kathryn"
   ]
  },
  {
   "cell_type": "code",
   "execution_count": 4,
   "metadata": {},
   "outputs": [],
   "source": [
    "#Print Lengths for testing"
   ]
  },
  {
   "cell_type": "code",
   "execution_count": 5,
   "metadata": {},
   "outputs": [
    {
     "data": {
      "text/plain": [
       "380546"
      ]
     },
     "execution_count": 5,
     "metadata": {},
     "output_type": "execute_result"
    }
   ],
   "source": [
    "len(pharma_inventors)"
   ]
  },
  {
   "cell_type": "code",
   "execution_count": 6,
   "metadata": {},
   "outputs": [
    {
     "data": {
      "text/plain": [
       "263460"
      ]
     },
     "execution_count": 6,
     "metadata": {},
     "output_type": "execute_result"
    }
   ],
   "source": [
    "len(civil_inventors)"
   ]
  },
  {
   "cell_type": "code",
   "execution_count": 7,
   "metadata": {},
   "outputs": [],
   "source": [
    "#Taking a peek at the data"
   ]
  },
  {
   "cell_type": "code",
   "execution_count": 8,
   "metadata": {},
   "outputs": [
    {
     "data": {
      "text/html": [
       "<div>\n",
       "<style scoped>\n",
       "    .dataframe tbody tr th:only-of-type {\n",
       "        vertical-align: middle;\n",
       "    }\n",
       "\n",
       "    .dataframe tbody tr th {\n",
       "        vertical-align: top;\n",
       "    }\n",
       "\n",
       "    .dataframe thead th {\n",
       "        text-align: right;\n",
       "    }\n",
       "</style>\n",
       "<table border=\"1\" class=\"dataframe\">\n",
       "  <thead>\n",
       "    <tr style=\"text-align: right;\">\n",
       "      <th></th>\n",
       "      <th>location_id</th>\n",
       "      <th>inventor_id</th>\n",
       "      <th>name_first</th>\n",
       "      <th>name_last</th>\n",
       "      <th>male_flag</th>\n",
       "      <th>attribution_status</th>\n",
       "      <th>city</th>\n",
       "      <th>state</th>\n",
       "      <th>country</th>\n",
       "      <th>latitude</th>\n",
       "      <th>longitude</th>\n",
       "      <th>county</th>\n",
       "      <th>state_fips</th>\n",
       "      <th>county_fips</th>\n",
       "    </tr>\n",
       "  </thead>\n",
       "  <tbody>\n",
       "    <tr>\n",
       "      <th>0</th>\n",
       "      <td>00006da3-cb90-11eb-9615-121df0c29c1e</td>\n",
       "      <td>fl:jo_ln:kephart-1</td>\n",
       "      <td>John W.</td>\n",
       "      <td>Kephart, Jr.</td>\n",
       "      <td>1.0</td>\n",
       "      <td>1</td>\n",
       "      <td>Alder</td>\n",
       "      <td>MT</td>\n",
       "      <td>US</td>\n",
       "      <td>45.3247</td>\n",
       "      <td>-112.10800</td>\n",
       "      <td>Madison</td>\n",
       "      <td>30.0</td>\n",
       "      <td>30057.0</td>\n",
       "    </tr>\n",
       "    <tr>\n",
       "      <th>1</th>\n",
       "      <td>0005ce99-cb8f-11eb-9615-121df0c29c1e</td>\n",
       "      <td>fl:ha_ln:marti-2</td>\n",
       "      <td>Hanspeter</td>\n",
       "      <td>Marti</td>\n",
       "      <td>1.0</td>\n",
       "      <td>1</td>\n",
       "      <td>Kottwil</td>\n",
       "      <td>NaN</td>\n",
       "      <td>CH</td>\n",
       "      <td>47.1623</td>\n",
       "      <td>8.04498</td>\n",
       "      <td>NaN</td>\n",
       "      <td>NaN</td>\n",
       "      <td>NaN</td>\n",
       "    </tr>\n",
       "    <tr>\n",
       "      <th>2</th>\n",
       "      <td>0010f898-cb91-11eb-9615-121df0c29c1e</td>\n",
       "      <td>fl:er_ln:booth-4</td>\n",
       "      <td>Eric Lee</td>\n",
       "      <td>Booth</td>\n",
       "      <td>1.0</td>\n",
       "      <td>1</td>\n",
       "      <td>Wlllacoochee</td>\n",
       "      <td>GA</td>\n",
       "      <td>US</td>\n",
       "      <td>NaN</td>\n",
       "      <td>NaN</td>\n",
       "      <td>NaN</td>\n",
       "      <td>13.0</td>\n",
       "      <td>NaN</td>\n",
       "    </tr>\n",
       "    <tr>\n",
       "      <th>3</th>\n",
       "      <td>00171e6a-cb90-11eb-9615-121df0c29c1e</td>\n",
       "      <td>fl:do_ln:english-3</td>\n",
       "      <td>Donald</td>\n",
       "      <td>English</td>\n",
       "      <td>1.0</td>\n",
       "      <td>1</td>\n",
       "      <td>Mount Herman</td>\n",
       "      <td>NJ</td>\n",
       "      <td>US</td>\n",
       "      <td>39.6176</td>\n",
       "      <td>-74.59430</td>\n",
       "      <td>NaN</td>\n",
       "      <td>34.0</td>\n",
       "      <td>NaN</td>\n",
       "    </tr>\n",
       "    <tr>\n",
       "      <th>4</th>\n",
       "      <td>002a61fb-cb8f-11eb-9615-121df0c29c1e</td>\n",
       "      <td>t6hjb0czspbxykv41mjt31rix</td>\n",
       "      <td>Terry L.</td>\n",
       "      <td>Saucke</td>\n",
       "      <td>1.0</td>\n",
       "      <td>1</td>\n",
       "      <td>Portland</td>\n",
       "      <td>ND</td>\n",
       "      <td>US</td>\n",
       "      <td>47.4982</td>\n",
       "      <td>-97.37040</td>\n",
       "      <td>Traill</td>\n",
       "      <td>38.0</td>\n",
       "      <td>38097.0</td>\n",
       "    </tr>\n",
       "  </tbody>\n",
       "</table>\n",
       "</div>"
      ],
      "text/plain": [
       "                            location_id                inventor_id name_first  \\\n",
       "0  00006da3-cb90-11eb-9615-121df0c29c1e         fl:jo_ln:kephart-1    John W.   \n",
       "1  0005ce99-cb8f-11eb-9615-121df0c29c1e           fl:ha_ln:marti-2  Hanspeter   \n",
       "2  0010f898-cb91-11eb-9615-121df0c29c1e           fl:er_ln:booth-4   Eric Lee   \n",
       "3  00171e6a-cb90-11eb-9615-121df0c29c1e         fl:do_ln:english-3     Donald   \n",
       "4  002a61fb-cb8f-11eb-9615-121df0c29c1e  t6hjb0czspbxykv41mjt31rix   Terry L.   \n",
       "\n",
       "      name_last  male_flag  attribution_status          city state country  \\\n",
       "0  Kephart, Jr.        1.0                   1         Alder    MT      US   \n",
       "1         Marti        1.0                   1       Kottwil   NaN      CH   \n",
       "2         Booth        1.0                   1  Wlllacoochee    GA      US   \n",
       "3       English        1.0                   1  Mount Herman    NJ      US   \n",
       "4        Saucke        1.0                   1      Portland    ND      US   \n",
       "\n",
       "   latitude  longitude   county  state_fips  county_fips  \n",
       "0   45.3247 -112.10800  Madison        30.0      30057.0  \n",
       "1   47.1623    8.04498      NaN         NaN          NaN  \n",
       "2       NaN        NaN      NaN        13.0          NaN  \n",
       "3   39.6176  -74.59430      NaN        34.0          NaN  \n",
       "4   47.4982  -97.37040   Traill        38.0      38097.0  "
      ]
     },
     "execution_count": 8,
     "metadata": {},
     "output_type": "execute_result"
    }
   ],
   "source": [
    "civil_inventors.head()"
   ]
  },
  {
   "cell_type": "code",
   "execution_count": 9,
   "metadata": {},
   "outputs": [
    {
     "data": {
      "text/html": [
       "<div>\n",
       "<style scoped>\n",
       "    .dataframe tbody tr th:only-of-type {\n",
       "        vertical-align: middle;\n",
       "    }\n",
       "\n",
       "    .dataframe tbody tr th {\n",
       "        vertical-align: top;\n",
       "    }\n",
       "\n",
       "    .dataframe thead th {\n",
       "        text-align: right;\n",
       "    }\n",
       "</style>\n",
       "<table border=\"1\" class=\"dataframe\">\n",
       "  <thead>\n",
       "    <tr style=\"text-align: right;\">\n",
       "      <th></th>\n",
       "      <th>location_id</th>\n",
       "      <th>inventor_id</th>\n",
       "      <th>name_first</th>\n",
       "      <th>name_last</th>\n",
       "      <th>male_flag</th>\n",
       "      <th>attribution_status</th>\n",
       "      <th>city</th>\n",
       "      <th>state</th>\n",
       "      <th>country</th>\n",
       "      <th>latitude</th>\n",
       "      <th>longitude</th>\n",
       "      <th>county</th>\n",
       "      <th>state_fips</th>\n",
       "      <th>county_fips</th>\n",
       "    </tr>\n",
       "  </thead>\n",
       "  <tbody>\n",
       "    <tr>\n",
       "      <th>0</th>\n",
       "      <td>00054e5e-cb90-11eb-9615-121df0c29c1e</td>\n",
       "      <td>fl:ro_ln:chambers-18</td>\n",
       "      <td>Robert J.</td>\n",
       "      <td>Chambers</td>\n",
       "      <td>1.0</td>\n",
       "      <td>1</td>\n",
       "      <td>Msytic</td>\n",
       "      <td>CT</td>\n",
       "      <td>US</td>\n",
       "      <td>NaN</td>\n",
       "      <td>NaN</td>\n",
       "      <td>NaN</td>\n",
       "      <td>9.0</td>\n",
       "      <td>NaN</td>\n",
       "    </tr>\n",
       "    <tr>\n",
       "      <th>1</th>\n",
       "      <td>0007f8eb-cb90-11eb-9615-121df0c29c1e</td>\n",
       "      <td>fl:ph_ln:bussat-2</td>\n",
       "      <td>Philippe</td>\n",
       "      <td>Bussat</td>\n",
       "      <td>1.0</td>\n",
       "      <td>1</td>\n",
       "      <td>Fiegeres</td>\n",
       "      <td>NaN</td>\n",
       "      <td>FR</td>\n",
       "      <td>NaN</td>\n",
       "      <td>NaN</td>\n",
       "      <td>NaN</td>\n",
       "      <td>NaN</td>\n",
       "      <td>NaN</td>\n",
       "    </tr>\n",
       "    <tr>\n",
       "      <th>2</th>\n",
       "      <td>00104bda-cb90-11eb-9615-121df0c29c1e</td>\n",
       "      <td>fl:te_ln:mazer-3</td>\n",
       "      <td>Terrence B.</td>\n",
       "      <td>Mazer</td>\n",
       "      <td>1.0</td>\n",
       "      <td>1</td>\n",
       "      <td>Reynoldsbury</td>\n",
       "      <td>OH</td>\n",
       "      <td>US</td>\n",
       "      <td>NaN</td>\n",
       "      <td>NaN</td>\n",
       "      <td>NaN</td>\n",
       "      <td>39.0</td>\n",
       "      <td>NaN</td>\n",
       "    </tr>\n",
       "    <tr>\n",
       "      <th>3</th>\n",
       "      <td>00108172-cb90-11eb-9615-121df0c29c1e</td>\n",
       "      <td>fl:lo_ln:deurer-1</td>\n",
       "      <td>Lothar</td>\n",
       "      <td>Deurer</td>\n",
       "      <td>1.0</td>\n",
       "      <td>1</td>\n",
       "      <td>Kolbenz</td>\n",
       "      <td>NaN</td>\n",
       "      <td>DE</td>\n",
       "      <td>NaN</td>\n",
       "      <td>NaN</td>\n",
       "      <td>NaN</td>\n",
       "      <td>NaN</td>\n",
       "      <td>NaN</td>\n",
       "    </tr>\n",
       "    <tr>\n",
       "      <th>4</th>\n",
       "      <td>002161f5-cb8f-11eb-9615-121df0c29c1e</td>\n",
       "      <td>fl:fl_ln:nielsen-4</td>\n",
       "      <td>Flemming S.</td>\n",
       "      <td>Nielsen</td>\n",
       "      <td>1.0</td>\n",
       "      <td>1</td>\n",
       "      <td>Federikssund</td>\n",
       "      <td>NaN</td>\n",
       "      <td>DK</td>\n",
       "      <td>NaN</td>\n",
       "      <td>NaN</td>\n",
       "      <td>NaN</td>\n",
       "      <td>NaN</td>\n",
       "      <td>NaN</td>\n",
       "    </tr>\n",
       "  </tbody>\n",
       "</table>\n",
       "</div>"
      ],
      "text/plain": [
       "                            location_id           inventor_id   name_first  \\\n",
       "0  00054e5e-cb90-11eb-9615-121df0c29c1e  fl:ro_ln:chambers-18    Robert J.   \n",
       "1  0007f8eb-cb90-11eb-9615-121df0c29c1e     fl:ph_ln:bussat-2     Philippe   \n",
       "2  00104bda-cb90-11eb-9615-121df0c29c1e      fl:te_ln:mazer-3  Terrence B.   \n",
       "3  00108172-cb90-11eb-9615-121df0c29c1e     fl:lo_ln:deurer-1       Lothar   \n",
       "4  002161f5-cb8f-11eb-9615-121df0c29c1e    fl:fl_ln:nielsen-4  Flemming S.   \n",
       "\n",
       "  name_last  male_flag  attribution_status          city state country  \\\n",
       "0  Chambers        1.0                   1        Msytic    CT      US   \n",
       "1    Bussat        1.0                   1      Fiegeres   NaN      FR   \n",
       "2     Mazer        1.0                   1  Reynoldsbury    OH      US   \n",
       "3    Deurer        1.0                   1       Kolbenz   NaN      DE   \n",
       "4   Nielsen        1.0                   1  Federikssund   NaN      DK   \n",
       "\n",
       "   latitude  longitude county  state_fips  county_fips  \n",
       "0       NaN        NaN    NaN         9.0          NaN  \n",
       "1       NaN        NaN    NaN         NaN          NaN  \n",
       "2       NaN        NaN    NaN        39.0          NaN  \n",
       "3       NaN        NaN    NaN         NaN          NaN  \n",
       "4       NaN        NaN    NaN         NaN          NaN  "
      ]
     },
     "execution_count": 9,
     "metadata": {},
     "output_type": "execute_result"
    }
   ],
   "source": [
    "pharma_inventors.head()"
   ]
  },
  {
   "cell_type": "markdown",
   "metadata": {},
   "source": [
    "<h3> We note that the <i>name_first</i> column can have spaces and Middle Initials. We need to remove that in order to have a clean first name for gender identification</h3>"
   ]
  },
  {
   "cell_type": "code",
   "execution_count": 10,
   "metadata": {},
   "outputs": [],
   "source": [
    "pharma_inventors['cleaned_name']=pharma_inventors['name_first'].str.split(' ').str.get(0)\n",
    "civil_inventors['cleaned_name']=civil_inventors['name_first'].str.split(' ').str.get(0)"
   ]
  },
  {
   "cell_type": "code",
   "execution_count": 11,
   "metadata": {},
   "outputs": [],
   "source": [
    "civil_inventors['cleaned_name']=civil_inventors['cleaned_name'].str.lower()\n",
    "pharma_inventors['cleaned_name']=pharma_inventors['cleaned_name'].str.lower()"
   ]
  },
  {
   "cell_type": "code",
   "execution_count": 12,
   "metadata": {},
   "outputs": [
    {
     "data": {
      "text/plain": [
       "0         john\n",
       "1    hanspeter\n",
       "2         eric\n",
       "3       donald\n",
       "4        terry\n",
       "Name: cleaned_name, dtype: object"
      ]
     },
     "execution_count": 12,
     "metadata": {},
     "output_type": "execute_result"
    }
   ],
   "source": [
    "civil_inventors['cleaned_name'].head()"
   ]
  },
  {
   "cell_type": "code",
   "execution_count": 13,
   "metadata": {},
   "outputs": [
    {
     "data": {
      "text/plain": [
       "0      robert\n",
       "1    philippe\n",
       "2    terrence\n",
       "3      lothar\n",
       "4    flemming\n",
       "Name: cleaned_name, dtype: object"
      ]
     },
     "execution_count": 13,
     "metadata": {},
     "output_type": "execute_result"
    }
   ],
   "source": [
    "pharma_inventors['cleaned_name'].head()"
   ]
  },
  {
   "cell_type": "markdown",
   "metadata": {},
   "source": [
    "<h3> Method 1 - Using the WGND1 dataset </h3>"
   ]
  },
  {
   "cell_type": "code",
   "execution_count": 14,
   "metadata": {},
   "outputs": [],
   "source": [
    "from zipfile import ZipFile\n",
    "\n",
    "# pass in the specific file name \n",
    "# to the open method\n",
    "with ZipFile(\"wgnd_1_1.zip\") as myzip:\n",
    "    wgnd1 = pd.read_csv(myzip.open(\"dictionary_source_v1.1.csv\"))"
   ]
  },
  {
   "cell_type": "code",
   "execution_count": 15,
   "metadata": {},
   "outputs": [
    {
     "data": {
      "text/html": [
       "<div>\n",
       "<style scoped>\n",
       "    .dataframe tbody tr th:only-of-type {\n",
       "        vertical-align: middle;\n",
       "    }\n",
       "\n",
       "    .dataframe tbody tr th {\n",
       "        vertical-align: top;\n",
       "    }\n",
       "\n",
       "    .dataframe thead th {\n",
       "        text-align: right;\n",
       "    }\n",
       "</style>\n",
       "<table border=\"1\" class=\"dataframe\">\n",
       "  <thead>\n",
       "    <tr style=\"text-align: right;\">\n",
       "      <th></th>\n",
       "      <th>gender</th>\n",
       "      <th>name</th>\n",
       "      <th>source</th>\n",
       "      <th>code</th>\n",
       "    </tr>\n",
       "  </thead>\n",
       "  <tbody>\n",
       "    <tr>\n",
       "      <th>0</th>\n",
       "      <td>M</td>\n",
       "      <td>A G</td>\n",
       "      <td>Albertagvt</td>\n",
       "      <td>CA</td>\n",
       "    </tr>\n",
       "    <tr>\n",
       "      <th>1</th>\n",
       "      <td>M</td>\n",
       "      <td>A HANNAN</td>\n",
       "      <td>Albertagvt</td>\n",
       "      <td>CA</td>\n",
       "    </tr>\n",
       "    <tr>\n",
       "      <th>2</th>\n",
       "      <td>M</td>\n",
       "      <td>A JAY</td>\n",
       "      <td>Albertagvt</td>\n",
       "      <td>CA</td>\n",
       "    </tr>\n",
       "    <tr>\n",
       "      <th>3</th>\n",
       "      <td>M</td>\n",
       "      <td>A K I L</td>\n",
       "      <td>Albertagvt</td>\n",
       "      <td>CA</td>\n",
       "    </tr>\n",
       "    <tr>\n",
       "      <th>4</th>\n",
       "      <td>F</td>\n",
       "      <td>A LAH</td>\n",
       "      <td>Albertagvt</td>\n",
       "      <td>CA</td>\n",
       "    </tr>\n",
       "  </tbody>\n",
       "</table>\n",
       "</div>"
      ],
      "text/plain": [
       "  gender      name      source code\n",
       "0      M       A G  Albertagvt   CA\n",
       "1      M  A HANNAN  Albertagvt   CA\n",
       "2      M     A JAY  Albertagvt   CA\n",
       "3      M   A K I L  Albertagvt   CA\n",
       "4      F     A LAH  Albertagvt   CA"
      ]
     },
     "execution_count": 15,
     "metadata": {},
     "output_type": "execute_result"
    }
   ],
   "source": [
    "wgnd1.head()"
   ]
  },
  {
   "cell_type": "code",
   "execution_count": 16,
   "metadata": {},
   "outputs": [],
   "source": [
    "wgnd1['name']=wgnd1['name'].str.lower()"
   ]
  },
  {
   "cell_type": "code",
   "execution_count": 17,
   "metadata": {},
   "outputs": [],
   "source": [
    "#Ready to merge with the civil inventors and pharma inventors set on name. \n",
    "civil_inventors_wgnd=pd.merge(civil_inventors,wgnd1,left_on='cleaned_name',right_on='name',how='left')\n",
    "pharma_inventors_wgnd=pd.merge(pharma_inventors,wgnd1,left_on='cleaned_name',right_on='name',how='left')"
   ]
  },
  {
   "cell_type": "markdown",
   "metadata": {},
   "source": [
    "<h3> Method 2 - Using the WGND2 dataset </h3>"
   ]
  },
  {
   "cell_type": "code",
   "execution_count": 18,
   "metadata": {},
   "outputs": [],
   "source": [
    "with ZipFile(\"wgnd_2_0.zip\") as myzip:\n",
    "    wgnd2 = pd.read_csv(myzip.open(\"wgnd_2_0_name-gender-code.csv\"))"
   ]
  },
  {
   "cell_type": "code",
   "execution_count": 19,
   "metadata": {},
   "outputs": [
    {
     "data": {
      "text/html": [
       "<div>\n",
       "<style scoped>\n",
       "    .dataframe tbody tr th:only-of-type {\n",
       "        vertical-align: middle;\n",
       "    }\n",
       "\n",
       "    .dataframe tbody tr th {\n",
       "        vertical-align: top;\n",
       "    }\n",
       "\n",
       "    .dataframe thead th {\n",
       "        text-align: right;\n",
       "    }\n",
       "</style>\n",
       "<table border=\"1\" class=\"dataframe\">\n",
       "  <thead>\n",
       "    <tr style=\"text-align: right;\">\n",
       "      <th></th>\n",
       "      <th>name</th>\n",
       "      <th>code</th>\n",
       "      <th>gender</th>\n",
       "      <th>wgt</th>\n",
       "    </tr>\n",
       "  </thead>\n",
       "  <tbody>\n",
       "    <tr>\n",
       "      <th>0</th>\n",
       "      <td>\"baby\"</td>\n",
       "      <td>AU</td>\n",
       "      <td>F</td>\n",
       "      <td>1.0</td>\n",
       "    </tr>\n",
       "    <tr>\n",
       "      <th>1</th>\n",
       "      <td>'aisyah</td>\n",
       "      <td>AU</td>\n",
       "      <td>F</td>\n",
       "      <td>1.0</td>\n",
       "    </tr>\n",
       "    <tr>\n",
       "      <th>2</th>\n",
       "      <td>'anela</td>\n",
       "      <td>CA</td>\n",
       "      <td>F</td>\n",
       "      <td>1.0</td>\n",
       "    </tr>\n",
       "    <tr>\n",
       "      <th>3</th>\n",
       "      <td>'fiyinfoluwa</td>\n",
       "      <td>CA</td>\n",
       "      <td>F</td>\n",
       "      <td>1.0</td>\n",
       "    </tr>\n",
       "    <tr>\n",
       "      <th>4</th>\n",
       "      <td>'olioni</td>\n",
       "      <td>AU</td>\n",
       "      <td>M</td>\n",
       "      <td>1.0</td>\n",
       "    </tr>\n",
       "  </tbody>\n",
       "</table>\n",
       "</div>"
      ],
      "text/plain": [
       "           name code gender  wgt\n",
       "0        \"baby\"   AU      F  1.0\n",
       "1       'aisyah   AU      F  1.0\n",
       "2        'anela   CA      F  1.0\n",
       "3  'fiyinfoluwa   CA      F  1.0\n",
       "4       'olioni   AU      M  1.0"
      ]
     },
     "execution_count": 19,
     "metadata": {},
     "output_type": "execute_result"
    }
   ],
   "source": [
    "wgnd2.head()"
   ]
  },
  {
   "cell_type": "code",
   "execution_count": 20,
   "metadata": {},
   "outputs": [],
   "source": [
    "#Getting rid of single and double quotes from the name\n",
    "wgnd2['name']=wgnd2['name'].str.strip(\"\\'\")\n",
    "wgnd2['name']=wgnd2['name'].str.strip(\"\\\"\")"
   ]
  },
  {
   "cell_type": "code",
   "execution_count": null,
   "metadata": {},
   "outputs": [],
   "source": [
    "#Ready to merge with the civil inventors and pharma inventors set on name\n",
    "civil_inventors_wgnd2=pd.merge(civil_inventors_wgnd,wgnd2,left_on='cleaned_name',right_on='name',how='left')\n",
    "pharma_inventors_wgnd2=pd.merge(pharma_inventors_wgnd,wgnd2,left_on='cleaned_name',right_on='name',how='left')"
   ]
  },
  {
   "cell_type": "code",
   "execution_count": null,
   "metadata": {},
   "outputs": [],
   "source": [
    "#Drop extra columns so we can deduplicate effectively\n",
    "civil_inventors_wgnd2.drop(columns=['source', 'code_x','name_x','name_y'],inplace=True)\n",
    "pharma_inventors_wgnd2.drop(columns=['source', 'code_x','name_x','name_y'],inplace=True)"
   ]
  },
  {
   "cell_type": "code",
   "execution_count": null,
   "metadata": {},
   "outputs": [],
   "source": [
    "civil_inventors_wgnd2.drop_duplicates(inplace=True)"
   ]
  },
  {
   "cell_type": "code",
   "execution_count": 38,
   "metadata": {},
   "outputs": [
    {
     "data": {
      "text/plain": [
       "387880"
      ]
     },
     "execution_count": 38,
     "metadata": {},
     "output_type": "execute_result"
    }
   ],
   "source": [
    "pharma_inventors_wgnd2_country_cleaned.drop_duplicates(inplace=True)"
   ]
  },
  {
   "cell_type": "code",
   "execution_count": 34,
   "metadata": {},
   "outputs": [],
   "source": [
    "civil_inventors_wgnd2_country_cleaned=civil_inventors_wgnd2[civil_inventors_wgnd2['code_y']==civil_inventors_wgnd2['country']]\n",
    "pharma_inventors_wgnd2_country_cleaned=pharma_inventors_wgnd2[pharma_inventors_wgnd2['code_y']==pharma_inventors_wgnd2['country']]"
   ]
  },
  {
   "cell_type": "code",
   "execution_count": null,
   "metadata": {},
   "outputs": [],
   "source": [
    "pharma_inventors_wgnd2_country_cleaned.to_csv(\"pharma_wgnd1_wgnd2.csv\")"
   ]
  },
  {
   "cell_type": "code",
   "execution_count": null,
   "metadata": {},
   "outputs": [],
   "source": [
    "civil_inventors_wgnd2_country_cleaned.to_csv(\"civil_wgnd1_wgnd2.csv\")"
   ]
  },
  {
   "cell_type": "markdown",
   "metadata": {},
   "source": [
    "<h2> Generating Samples of Inventors </h2>"
   ]
  },
  {
   "cell_type": "code",
   "execution_count": 2,
   "metadata": {},
   "outputs": [],
   "source": [
    "import pandas as pd\n",
    "pharma_inventors=pd.read_csv(\"pharma_wgnd1_wgnd2.csv\")\n",
    "civil_inventors=pd.read_csv(\"civil_wgnd1_wgnd2.csv\")"
   ]
  },
  {
   "cell_type": "code",
   "execution_count": 3,
   "metadata": {},
   "outputs": [],
   "source": [
    "#Eliminate duplicate Inventor IDs\n",
    "civil_inventors=civil_inventors.sort_values('Unnamed: 0', ascending=False).drop_duplicates('inventor_id').sort_index()\n",
    "pharma_inventors=pharma_inventors.sort_values('Unnamed: 0', ascending=False).drop_duplicates('inventor_id').sort_index()"
   ]
  },
  {
   "cell_type": "code",
   "execution_count": 4,
   "metadata": {},
   "outputs": [],
   "source": [
    "#Use Male_Flag to split into subgroups\n",
    "civil_inventors_male=civil_inventors[civil_inventors['male_flag']==1.0]\n",
    "civil_inventors_nonmale=civil_inventors[civil_inventors['male_flag']!=1.0]\n",
    "\n",
    "pharma_inventors_male=pharma_inventors[pharma_inventors['male_flag']==1.0]\n",
    "pharma_inventors_nonmale=pharma_inventors[pharma_inventors['male_flag']!=1.0]"
   ]
  },
  {
   "cell_type": "code",
   "execution_count": null,
   "metadata": {},
   "outputs": [],
   "source": [
    "#subsampling by country, taking 1% of the total set"
   ]
  },
  {
   "cell_type": "code",
   "execution_count": 5,
   "metadata": {},
   "outputs": [],
   "source": [
    "pharma_inventors_male_samples=pharma_inventors_male.groupby('country',group_keys=False).apply(lambda x: x.sample(frac=.1))\n",
    "pharma_inventors_nonmale_samples=pharma_inventors_nonmale.groupby('country',group_keys=False).apply(lambda x: x.sample(frac=.1))\n",
    "civil_inventors_nonmale_samples=civil_inventors_nonmale.groupby('country',group_keys=False).apply(lambda x: x.sample(frac=.1))\n",
    "civil_inventors_male_samples=civil_inventors_male.groupby('country',group_keys=False).apply(lambda x: x.sample(frac=.1))"
   ]
  },
  {
   "cell_type": "code",
   "execution_count": 6,
   "metadata": {},
   "outputs": [],
   "source": [
    "#applying sampling again to get sets of 1000 rows.\n",
    "civil_inventors_male_samples_large=civil_inventors_male_samples.groupby('country',group_keys=False).apply(lambda x: x.sample(frac=.054))\n",
    "civil_inventors_nonmale_samples_large=civil_inventors_nonmale_samples.groupby('country',group_keys=False).apply(lambda x: x.sample(frac=0.692))\n",
    "pharma_inventors_male_samples_large=pharma_inventors_male_samples.groupby('country',group_keys=False).apply(lambda x: x.sample(frac=.05865))\n",
    "pharma_inventors_nonmale_samples_large=pharma_inventors_nonmale_samples.groupby('country',group_keys=False).apply(lambda x: x.sample(frac=.1709))"
   ]
  },
  {
   "cell_type": "code",
   "execution_count": null,
   "metadata": {},
   "outputs": [],
   "source": []
  },
  {
   "cell_type": "code",
   "execution_count": null,
   "metadata": {},
   "outputs": [],
   "source": [
    "#Apply Gender Guesser"
   ]
  },
  {
   "cell_type": "code",
   "execution_count": 8,
   "metadata": {},
   "outputs": [],
   "source": [
    "import gender_guesser.detector as gender\n",
    "d = gender.Detector()"
   ]
  },
  {
   "cell_type": "code",
   "execution_count": null,
   "metadata": {},
   "outputs": [],
   "source": [
    "civil_inventors_male_samples_large['gender-guesser']=civil_inventors_male_samples_large['cleaned_name'].apply(lambda x: d.get_gender(x))\n",
    "civil_inventors_nonmale_samples_large['gender-guesser']=civil_inventors_nonmale_samples_large['cleaned_name'].apply(lambda x: d.get_gender(x))\n",
    "pharma_inventors_male_samples_large['gender-guesser']=pharma_inventors_male_samples_large['cleaned_name'].apply(lambda x: d.get_gender(x))\n",
    "pharma_inventors_nonmale_samples_large['gender-guesser']=pharma_inventors_nonmale_samples_large['cleaned_name'].apply(lambda x: d.get_gender(x))\n",
    "\n"
   ]
  },
  {
   "cell_type": "code",
   "execution_count": null,
   "metadata": {},
   "outputs": [],
   "source": [
    "#apply Genderize"
   ]
  },
  {
   "cell_type": "code",
   "execution_count": 9,
   "metadata": {},
   "outputs": [],
   "source": [
    "from genderize import Genderize"
   ]
  },
  {
   "cell_type": "code",
   "execution_count": null,
   "metadata": {},
   "outputs": [],
   "source": [
    "def genderize(name):\n",
    "    return Genderize(\n",
    "    user_agent='GenderizeDocs/0.0',\n",
    "    api_key='449ade9b601b7b2b45b2fe7551b78fcf',\n",
    "    timeout=5.0).get([name])[0]['gender']"
   ]
  },
  {
   "cell_type": "code",
   "execution_count": null,
   "metadata": {},
   "outputs": [],
   "source": [
    "civil_inventors_male_samples_large['genderized']=civil_inventors_male_samples_large.apply(lambda row : genderize(row['cleaned_name']),axis=1)\n",
    "civil_inventors_nonmale_samples_large['genderized']=civil_inventors_nonmale_samples_large.apply(lambda row : genderize(row['cleaned_name']),axis=1)\n",
    "pharma_inventors_male_samples_large['genderized']=pharma_inventors_male_samples_large.apply(lambda row : genderize(row['cleaned_name']),axis=1)\n",
    "pharma_inventors_nonmale_samples_large['genderized']=pharma_inventors_nonmale_samples_large.apply(lambda row : genderize(row['cleaned_name']),axis=1)"
   ]
  },
  {
   "cell_type": "code",
   "execution_count": null,
   "metadata": {},
   "outputs": [],
   "source": [
    "civil_inventors_male_samples_large.to_csv(\"samples/civil_inventors_male_samples_large.csv\")\n",
    "civil_inventors_nonmale_samples_large.to_csv(\"samples/civil_inventors_nonmale_samples_large.csv\")\n",
    "pharma_inventors_male_samples_large.to_csv(\"samples/pharma_inventors_male_samples_large.csv\")\n",
    "pharma_inventors_nonmale_samples_large.to_csv(\"samples/pharma_inventors_nonmale_samples_large.csv\")"
   ]
  }
 ],
 "metadata": {
  "kernelspec": {
   "display_name": "Python 3",
   "language": "python",
   "name": "python3"
  },
  "language_info": {
   "codemirror_mode": {
    "name": "ipython",
    "version": 3
   },
   "file_extension": ".py",
   "mimetype": "text/x-python",
   "name": "python",
   "nbconvert_exporter": "python",
   "pygments_lexer": "ipython3",
   "version": "3.8.8"
  }
 },
 "nbformat": 4,
 "nbformat_minor": 4
}

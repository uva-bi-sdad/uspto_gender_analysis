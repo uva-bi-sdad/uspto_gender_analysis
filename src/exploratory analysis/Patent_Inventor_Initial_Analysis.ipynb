{
 "cells": [
  {
   "cell_type": "code",
   "execution_count": null,
   "metadata": {},
   "outputs": [],
   "source": [
    "#This Notebook is for code that looks at data extracted from Micah Isermans USPTO library and analyses Inventor Data for Gender information"
   ]
  },
  {
   "cell_type": "code",
   "execution_count": 42,
   "metadata": {},
   "outputs": [],
   "source": [
    "import pandas as pd"
   ]
  },
  {
   "cell_type": "code",
   "execution_count": 43,
   "metadata": {},
   "outputs": [],
   "source": [
    "mechanical_inventors = pd.read_csv(\"uspto/eda/searches/inventors_mechanical.csv.xz\", index_col=0, compression='xz', engine='c')"
   ]
  },
  {
   "cell_type": "code",
   "execution_count": 50,
   "metadata": {},
   "outputs": [
    {
     "data": {
      "text/html": [
       "<div>\n",
       "<style scoped>\n",
       "    .dataframe tbody tr th:only-of-type {\n",
       "        vertical-align: middle;\n",
       "    }\n",
       "\n",
       "    .dataframe tbody tr th {\n",
       "        vertical-align: top;\n",
       "    }\n",
       "\n",
       "    .dataframe thead th {\n",
       "        text-align: right;\n",
       "    }\n",
       "</style>\n",
       "<table border=\"1\" class=\"dataframe\">\n",
       "  <thead>\n",
       "    <tr style=\"text-align: right;\">\n",
       "      <th></th>\n",
       "      <th>applicationNumber</th>\n",
       "      <th>firstName</th>\n",
       "      <th>middleName</th>\n",
       "      <th>lastName</th>\n",
       "      <th>inventorCountry</th>\n",
       "      <th>inventorState</th>\n",
       "      <th>inventorCity</th>\n",
       "      <th>search_set</th>\n",
       "      <th>fullname</th>\n",
       "      <th>id</th>\n",
       "      <th>prob_fem_us</th>\n",
       "      <th>sex_usuk</th>\n",
       "      <th>prob_fem_ssa</th>\n",
       "      <th>prob_fem_ipums</th>\n",
       "      <th>prob_fem_napp</th>\n",
       "      <th>prob_asian</th>\n",
       "      <th>prob_black</th>\n",
       "      <th>prob_hispanic</th>\n",
       "      <th>prob_white</th>\n",
       "    </tr>\n",
       "    <tr>\n",
       "      <th>guid</th>\n",
       "      <th></th>\n",
       "      <th></th>\n",
       "      <th></th>\n",
       "      <th></th>\n",
       "      <th></th>\n",
       "      <th></th>\n",
       "      <th></th>\n",
       "      <th></th>\n",
       "      <th></th>\n",
       "      <th></th>\n",
       "      <th></th>\n",
       "      <th></th>\n",
       "      <th></th>\n",
       "      <th></th>\n",
       "      <th></th>\n",
       "      <th></th>\n",
       "      <th></th>\n",
       "      <th></th>\n",
       "      <th></th>\n",
       "    </tr>\n",
       "  </thead>\n",
       "  <tbody>\n",
       "    <tr>\n",
       "      <th>US-20010000012-A1</th>\n",
       "      <td>09/726504</td>\n",
       "      <td>Ebrahim</td>\n",
       "      <td>NaN</td>\n",
       "      <td>Andideh</td>\n",
       "      <td>US</td>\n",
       "      <td>OR</td>\n",
       "      <td>Portland</td>\n",
       "      <td>mechanical</td>\n",
       "      <td>Ebrahim Andideh</td>\n",
       "      <td>i1</td>\n",
       "      <td>0.0</td>\n",
       "      <td>M</td>\n",
       "      <td>0.0</td>\n",
       "      <td>0.5000</td>\n",
       "      <td>0.5000</td>\n",
       "      <td>0.328286</td>\n",
       "      <td>0.385593</td>\n",
       "      <td>0.079952</td>\n",
       "      <td>0.206168</td>\n",
       "    </tr>\n",
       "    <tr>\n",
       "      <th>US-20010000031-A1</th>\n",
       "      <td>09/725577</td>\n",
       "      <td>Otwin</td>\n",
       "      <td>NaN</td>\n",
       "      <td>Imhof</td>\n",
       "      <td>DE</td>\n",
       "      <td>NaN</td>\n",
       "      <td>Nurtigen</td>\n",
       "      <td>mechanical</td>\n",
       "      <td>Otwin Imhof</td>\n",
       "      <td>i4</td>\n",
       "      <td>0.5</td>\n",
       "      <td>U</td>\n",
       "      <td>0.5</td>\n",
       "      <td>0.0000</td>\n",
       "      <td>0.5000</td>\n",
       "      <td>0.182955</td>\n",
       "      <td>0.446365</td>\n",
       "      <td>0.038022</td>\n",
       "      <td>0.332657</td>\n",
       "    </tr>\n",
       "    <tr>\n",
       "      <th>US-20010000031-A1</th>\n",
       "      <td>09/725577</td>\n",
       "      <td>Holger</td>\n",
       "      <td>NaN</td>\n",
       "      <td>Kistrup</td>\n",
       "      <td>DE</td>\n",
       "      <td>NaN</td>\n",
       "      <td>Esslingen</td>\n",
       "      <td>mechanical</td>\n",
       "      <td>Holger Kistrup</td>\n",
       "      <td>i5</td>\n",
       "      <td>0.0</td>\n",
       "      <td>M</td>\n",
       "      <td>0.0</td>\n",
       "      <td>0.0110</td>\n",
       "      <td>0.0011</td>\n",
       "      <td>0.069951</td>\n",
       "      <td>0.039072</td>\n",
       "      <td>0.022177</td>\n",
       "      <td>0.868800</td>\n",
       "    </tr>\n",
       "    <tr>\n",
       "      <th>US-20010000031-A1</th>\n",
       "      <td>09/725577</td>\n",
       "      <td>Dieter</td>\n",
       "      <td>NaN</td>\n",
       "      <td>Henke</td>\n",
       "      <td>DE</td>\n",
       "      <td>NaN</td>\n",
       "      <td>Brilon</td>\n",
       "      <td>mechanical</td>\n",
       "      <td>Dieter Henke</td>\n",
       "      <td>i6</td>\n",
       "      <td>0.0</td>\n",
       "      <td>M</td>\n",
       "      <td>0.0</td>\n",
       "      <td>0.0000</td>\n",
       "      <td>0.0000</td>\n",
       "      <td>0.103390</td>\n",
       "      <td>0.094046</td>\n",
       "      <td>0.021568</td>\n",
       "      <td>0.780996</td>\n",
       "    </tr>\n",
       "    <tr>\n",
       "      <th>US-20010000031-A1</th>\n",
       "      <td>09/725577</td>\n",
       "      <td>Wilhelm</td>\n",
       "      <td>NaN</td>\n",
       "      <td>Kitzhofer</td>\n",
       "      <td>DE</td>\n",
       "      <td>NaN</td>\n",
       "      <td>Brilon</td>\n",
       "      <td>mechanical</td>\n",
       "      <td>Wilhelm Kitzhofer</td>\n",
       "      <td>i7</td>\n",
       "      <td>0.0</td>\n",
       "      <td>M</td>\n",
       "      <td>0.0</td>\n",
       "      <td>0.0287</td>\n",
       "      <td>0.0008</td>\n",
       "      <td>0.173121</td>\n",
       "      <td>0.053957</td>\n",
       "      <td>0.064572</td>\n",
       "      <td>0.708350</td>\n",
       "    </tr>\n",
       "  </tbody>\n",
       "</table>\n",
       "</div>"
      ],
      "text/plain": [
       "                  applicationNumber firstName middleName   lastName  \\\n",
       "guid                                                                  \n",
       "US-20010000012-A1         09/726504   Ebrahim        NaN    Andideh   \n",
       "US-20010000031-A1         09/725577     Otwin        NaN      Imhof   \n",
       "US-20010000031-A1         09/725577    Holger        NaN    Kistrup   \n",
       "US-20010000031-A1         09/725577    Dieter        NaN      Henke   \n",
       "US-20010000031-A1         09/725577   Wilhelm        NaN  Kitzhofer   \n",
       "\n",
       "                  inventorCountry inventorState inventorCity  search_set  \\\n",
       "guid                                                                       \n",
       "US-20010000012-A1              US            OR     Portland  mechanical   \n",
       "US-20010000031-A1              DE           NaN     Nurtigen  mechanical   \n",
       "US-20010000031-A1              DE           NaN    Esslingen  mechanical   \n",
       "US-20010000031-A1              DE           NaN       Brilon  mechanical   \n",
       "US-20010000031-A1              DE           NaN       Brilon  mechanical   \n",
       "\n",
       "                            fullname  id  prob_fem_us sex_usuk  prob_fem_ssa  \\\n",
       "guid                                                                           \n",
       "US-20010000012-A1    Ebrahim Andideh  i1          0.0        M           0.0   \n",
       "US-20010000031-A1        Otwin Imhof  i4          0.5        U           0.5   \n",
       "US-20010000031-A1     Holger Kistrup  i5          0.0        M           0.0   \n",
       "US-20010000031-A1       Dieter Henke  i6          0.0        M           0.0   \n",
       "US-20010000031-A1  Wilhelm Kitzhofer  i7          0.0        M           0.0   \n",
       "\n",
       "                   prob_fem_ipums  prob_fem_napp  prob_asian  prob_black  \\\n",
       "guid                                                                       \n",
       "US-20010000012-A1          0.5000         0.5000    0.328286    0.385593   \n",
       "US-20010000031-A1          0.0000         0.5000    0.182955    0.446365   \n",
       "US-20010000031-A1          0.0110         0.0011    0.069951    0.039072   \n",
       "US-20010000031-A1          0.0000         0.0000    0.103390    0.094046   \n",
       "US-20010000031-A1          0.0287         0.0008    0.173121    0.053957   \n",
       "\n",
       "                   prob_hispanic  prob_white  \n",
       "guid                                          \n",
       "US-20010000012-A1       0.079952    0.206168  \n",
       "US-20010000031-A1       0.038022    0.332657  \n",
       "US-20010000031-A1       0.022177    0.868800  \n",
       "US-20010000031-A1       0.021568    0.780996  \n",
       "US-20010000031-A1       0.064572    0.708350  "
      ]
     },
     "execution_count": 50,
     "metadata": {},
     "output_type": "execute_result"
    }
   ],
   "source": [
    "mechanical_inventors.head()"
   ]
  },
  {
   "cell_type": "code",
   "execution_count": 51,
   "metadata": {},
   "outputs": [],
   "source": [
    "#mechanical_inventors_not_male=mechanical_inventors[mechanical_inventors['prob_fem_us']>=0.5]\n",
    "#mechanical_inventors_not_male=mechanical_inventors[(mechanical_inventors['prob_fem_us']>=0.5) | (mechanical_inventors['sex_usuk']!='M') | (mechanical_inventors['prob_fem_ssa']>=0.5) | (mechanical_inventors['prob_fem_ipums']>=0.5) | (mechanical_inventors['prob_fem_napp']>=0.5)]\n",
    "#R package Gender infer (sex_usuk) Gender (ssa,ipums and napp) GetBabyNames(developed by Micah)(prob_fem_us)\n",
    "\n",
    "mechanical_inventors_not_male_fem_us=mechanical_inventors[mechanical_inventors['prob_fem_us']>=0.5]#-Micah Method-Based on US Social Security baby names, top 1000 per year\n",
    "mechanical_inventors_not_male_sex_usuk=mechanical_inventors[mechanical_inventors['sex_usuk']!='M']#Based on US and UK social security\n",
    "mechanical_inventors_not_male_fem_ssa=mechanical_inventors[mechanical_inventors['prob_fem_ssa']>=0.5]#Also based on older Social Security data\n",
    "mechanical_inventors_not_male_fem_ipums=mechanical_inventors[mechanical_inventors['prob_fem_ipums']>=0.5]#IPUMS- Census data\n",
    "mechanical_inventors_not_male_fem_napp=mechanical_inventors[mechanical_inventors['prob_fem_napp']>=0.5]#North Atlantic Population Project 1800 to 1910 Census data from North Atlantic Countries"
   ]
  },
  {
   "cell_type": "code",
   "execution_count": 61,
   "metadata": {},
   "outputs": [
    {
     "name": "stdout",
     "output_type": "stream",
     "text": [
      "Percent not male (fem us)27.47%\n",
      "Percent not male (sex usuk)27.66%\n",
      "Percent not male (fem ssa)29.49%\n",
      "Percent not male (fem ipums)30.37%\n",
      "Percent not male (fem napp)46.54%\n"
     ]
    }
   ],
   "source": [
    "percent_not_male_mechanical_fem_us=(len(mechanical_inventors_not_male_fem_us)*100)/len(mechanical_inventors)\n",
    "print(\"Percent not male (fem us)\"+\"{:.2f}\".format(percent_not_male_mechanical_fem_us)+\"%\")\n",
    "percent_not_male_mechanical_sex_usuk=(len(mechanical_inventors_not_male_sex_usuk)*100)/len(mechanical_inventors)\n",
    "print(\"Percent not male (sex usuk)\"+\"{:.2f}\".format(percent_not_male_mechanical_sex_usuk)+\"%\")\n",
    "percent_not_male_mechanical_fem_ssa=(len(mechanical_inventors_not_male_fem_ssa)*100)/len(mechanical_inventors)\n",
    "print(\"Percent not male (fem ssa)\"+\"{:.2f}\".format(percent_not_male_mechanical_fem_ssa)+\"%\")\n",
    "percent_not_male_mechanical_fem_ipums=(len(mechanical_inventors_not_male_fem_ipums)*100)/len(mechanical_inventors)\n",
    "print(\"Percent not male (fem ipums)\"+\"{:.2f}\".format(percent_not_male_mechanical_fem_ipums)+\"%\")\n",
    "percent_not_male_mechanical_fem_napp=(len(mechanical_inventors_not_male_fem_napp)*100)/len(mechanical_inventors)\n",
    "print(\"Percent not male (fem napp)\"+\"{:.2f}\".format(percent_not_male_mechanical_fem_napp)+\"%\")"
   ]
  },
  {
   "cell_type": "code",
   "execution_count": 46,
   "metadata": {},
   "outputs": [
    {
     "data": {
      "text/plain": [
       "439004"
      ]
     },
     "execution_count": 46,
     "metadata": {},
     "output_type": "execute_result"
    }
   ],
   "source": [
    "len(mechanical_inventors)"
   ]
  },
  {
   "cell_type": "code",
   "execution_count": 47,
   "metadata": {},
   "outputs": [
    {
     "data": {
      "text/plain": [
       "215324"
      ]
     },
     "execution_count": 47,
     "metadata": {},
     "output_type": "execute_result"
    }
   ],
   "source": [
    "len(mechanical_inventors_not_male)"
   ]
  },
  {
   "cell_type": "code",
   "execution_count": 48,
   "metadata": {},
   "outputs": [
    {
     "name": "stdout",
     "output_type": "stream",
     "text": [
      "49.048300243277964%\n"
     ]
    }
   ],
   "source": [
    "percent_not_male_mechanical=(len(mechanical_inventors_not_male)*100)/len(mechanical_inventors)\n",
    "print(str(percent_not_male_mechanical)+\"%\")"
   ]
  },
  {
   "cell_type": "code",
   "execution_count": 49,
   "metadata": {},
   "outputs": [
    {
     "data": {
      "text/plain": [
       "Gabriel L. Suciu               351\n",
       "Frederick M. Schwarz           280\n",
       "Ching-Pang Lee                 252\n",
       "Tracy A. Propheter-Hinckley    199\n",
       "Michael E. McCune              181\n",
       "                              ... \n",
       "Chung-Ping Eng                   1\n",
       "Daniel Schnoelzer                1\n",
       "Pierre Bachelet                  1\n",
       "Veronique Dantin                 1\n",
       "Aron Wolfish                     1\n",
       "Name: fullname, Length: 227923, dtype: int64"
      ]
     },
     "execution_count": 49,
     "metadata": {},
     "output_type": "execute_result"
    }
   ],
   "source": [
    "mechanical_inventors['fullname'].value_counts()"
   ]
  },
  {
   "cell_type": "code",
   "execution_count": 40,
   "metadata": {},
   "outputs": [
    {
     "data": {
      "text/plain": [
       "Ching-Pang Lee                 252\n",
       "Tracy A. Propheter-Hinckley    199\n",
       "Gopichandra Surnilla           154\n",
       "Shinya Hirota                   98\n",
       "Sanji Ekanayake                 86\n",
       "                              ... \n",
       "Futong XU                        1\n",
       "SILVIA GAFNER                    1\n",
       "Qiang Shen                       1\n",
       "Baoguo XU                        1\n",
       "Rita Ferritsius                  1\n",
       "Name: fullname, Length: 115462, dtype: int64"
      ]
     },
     "execution_count": 40,
     "metadata": {},
     "output_type": "execute_result"
    }
   ],
   "source": [
    "mechanical_inventors_not_male['fullname'].value_counts()"
   ]
  },
  {
   "cell_type": "code",
   "execution_count": 41,
   "metadata": {},
   "outputs": [
    {
     "name": "stdout",
     "output_type": "stream",
     "text": [
      "62.96669546021691%\n"
     ]
    }
   ],
   "source": [
    "new_percent_mech=(115462*100)/227923\n",
    "print(str(new_percent)+\"%\")"
   ]
  },
  {
   "cell_type": "code",
   "execution_count": 54,
   "metadata": {},
   "outputs": [],
   "source": [
    "pharmaceutical_inventors = pd.read_csv(\"uspto/eda/searches/inventors_pharmaceutical.csv.xz\", index_col=0, compression='xz', engine='c')"
   ]
  },
  {
   "cell_type": "code",
   "execution_count": 55,
   "metadata": {},
   "outputs": [
    {
     "data": {
      "text/html": [
       "<div>\n",
       "<style scoped>\n",
       "    .dataframe tbody tr th:only-of-type {\n",
       "        vertical-align: middle;\n",
       "    }\n",
       "\n",
       "    .dataframe tbody tr th {\n",
       "        vertical-align: top;\n",
       "    }\n",
       "\n",
       "    .dataframe thead th {\n",
       "        text-align: right;\n",
       "    }\n",
       "</style>\n",
       "<table border=\"1\" class=\"dataframe\">\n",
       "  <thead>\n",
       "    <tr style=\"text-align: right;\">\n",
       "      <th></th>\n",
       "      <th>applicationNumber</th>\n",
       "      <th>firstName</th>\n",
       "      <th>middleName</th>\n",
       "      <th>lastName</th>\n",
       "      <th>inventorCountry</th>\n",
       "      <th>inventorState</th>\n",
       "      <th>inventorCity</th>\n",
       "      <th>search_set</th>\n",
       "      <th>fullname</th>\n",
       "      <th>id</th>\n",
       "      <th>prob_fem_us</th>\n",
       "      <th>sex_usuk</th>\n",
       "      <th>prob_fem_ssa</th>\n",
       "      <th>prob_fem_ipums</th>\n",
       "      <th>prob_fem_napp</th>\n",
       "      <th>prob_asian</th>\n",
       "      <th>prob_black</th>\n",
       "      <th>prob_hispanic</th>\n",
       "      <th>prob_white</th>\n",
       "    </tr>\n",
       "    <tr>\n",
       "      <th>guid</th>\n",
       "      <th></th>\n",
       "      <th></th>\n",
       "      <th></th>\n",
       "      <th></th>\n",
       "      <th></th>\n",
       "      <th></th>\n",
       "      <th></th>\n",
       "      <th></th>\n",
       "      <th></th>\n",
       "      <th></th>\n",
       "      <th></th>\n",
       "      <th></th>\n",
       "      <th></th>\n",
       "      <th></th>\n",
       "      <th></th>\n",
       "      <th></th>\n",
       "      <th></th>\n",
       "      <th></th>\n",
       "      <th></th>\n",
       "    </tr>\n",
       "  </thead>\n",
       "  <tbody>\n",
       "    <tr>\n",
       "      <th>US-20010000028-A1</th>\n",
       "      <td>09/726688</td>\n",
       "      <td>Houn</td>\n",
       "      <td>Simon</td>\n",
       "      <td>Hsia</td>\n",
       "      <td>US</td>\n",
       "      <td>CA</td>\n",
       "      <td>Irvine</td>\n",
       "      <td>pharmaceutical</td>\n",
       "      <td>Houn Simon Hsia</td>\n",
       "      <td>i2</td>\n",
       "      <td>0.500000</td>\n",
       "      <td>U</td>\n",
       "      <td>0.5000</td>\n",
       "      <td>0.5000</td>\n",
       "      <td>0.5000</td>\n",
       "      <td>0.995565</td>\n",
       "      <td>0.000416</td>\n",
       "      <td>0.000301</td>\n",
       "      <td>0.003718</td>\n",
       "    </tr>\n",
       "    <tr>\n",
       "      <th>US-20010000028-A1</th>\n",
       "      <td>09/726688</td>\n",
       "      <td>David</td>\n",
       "      <td>NaN</td>\n",
       "      <td>Fan</td>\n",
       "      <td>US</td>\n",
       "      <td>CA</td>\n",
       "      <td>Newport Beach</td>\n",
       "      <td>pharmaceutical</td>\n",
       "      <td>David Fan</td>\n",
       "      <td>i3</td>\n",
       "      <td>0.003535</td>\n",
       "      <td>M</td>\n",
       "      <td>0.0037</td>\n",
       "      <td>0.0021</td>\n",
       "      <td>0.0014</td>\n",
       "      <td>0.960605</td>\n",
       "      <td>0.003274</td>\n",
       "      <td>0.012613</td>\n",
       "      <td>0.023508</td>\n",
       "    </tr>\n",
       "    <tr>\n",
       "      <th>US-20010000176-A1</th>\n",
       "      <td>09/727214</td>\n",
       "      <td>Hildegund</td>\n",
       "      <td>C. J.</td>\n",
       "      <td>Ertl</td>\n",
       "      <td>US</td>\n",
       "      <td>PA</td>\n",
       "      <td>Villanova</td>\n",
       "      <td>pharmaceutical</td>\n",
       "      <td>Hildegund C. J. Ertl</td>\n",
       "      <td>i16</td>\n",
       "      <td>0.500000</td>\n",
       "      <td>U</td>\n",
       "      <td>0.5000</td>\n",
       "      <td>0.5000</td>\n",
       "      <td>1.0000</td>\n",
       "      <td>0.141032</td>\n",
       "      <td>0.602659</td>\n",
       "      <td>0.062040</td>\n",
       "      <td>0.194270</td>\n",
       "    </tr>\n",
       "    <tr>\n",
       "      <th>US-20010000345-A1</th>\n",
       "      <td>09/727900</td>\n",
       "      <td>Thomas</td>\n",
       "      <td>Lee</td>\n",
       "      <td>Cupps</td>\n",
       "      <td>US</td>\n",
       "      <td>NY</td>\n",
       "      <td>Norwich</td>\n",
       "      <td>pharmaceutical</td>\n",
       "      <td>Thomas Lee Cupps</td>\n",
       "      <td>i33</td>\n",
       "      <td>0.003625</td>\n",
       "      <td>M</td>\n",
       "      <td>0.0036</td>\n",
       "      <td>0.0022</td>\n",
       "      <td>0.0015</td>\n",
       "      <td>0.026053</td>\n",
       "      <td>0.206122</td>\n",
       "      <td>0.010723</td>\n",
       "      <td>0.757102</td>\n",
       "    </tr>\n",
       "    <tr>\n",
       "      <th>US-20010000345-A1</th>\n",
       "      <td>09/727900</td>\n",
       "      <td>Sophie</td>\n",
       "      <td>Eva</td>\n",
       "      <td>Bogdan</td>\n",
       "      <td>US</td>\n",
       "      <td>OH</td>\n",
       "      <td>Maineville</td>\n",
       "      <td>pharmaceutical</td>\n",
       "      <td>Sophie Eva Bogdan</td>\n",
       "      <td>i34</td>\n",
       "      <td>0.999104</td>\n",
       "      <td>F</td>\n",
       "      <td>0.9993</td>\n",
       "      <td>0.9977</td>\n",
       "      <td>0.9973</td>\n",
       "      <td>0.852571</td>\n",
       "      <td>0.084132</td>\n",
       "      <td>0.010371</td>\n",
       "      <td>0.052926</td>\n",
       "    </tr>\n",
       "  </tbody>\n",
       "</table>\n",
       "</div>"
      ],
      "text/plain": [
       "                  applicationNumber  firstName middleName lastName  \\\n",
       "guid                                                                 \n",
       "US-20010000028-A1         09/726688       Houn      Simon     Hsia   \n",
       "US-20010000028-A1         09/726688      David        NaN      Fan   \n",
       "US-20010000176-A1         09/727214  Hildegund      C. J.     Ertl   \n",
       "US-20010000345-A1         09/727900     Thomas        Lee    Cupps   \n",
       "US-20010000345-A1         09/727900     Sophie        Eva   Bogdan   \n",
       "\n",
       "                  inventorCountry inventorState   inventorCity  \\\n",
       "guid                                                             \n",
       "US-20010000028-A1              US            CA         Irvine   \n",
       "US-20010000028-A1              US            CA  Newport Beach   \n",
       "US-20010000176-A1              US            PA      Villanova   \n",
       "US-20010000345-A1              US            NY        Norwich   \n",
       "US-20010000345-A1              US            OH     Maineville   \n",
       "\n",
       "                       search_set              fullname   id  prob_fem_us  \\\n",
       "guid                                                                        \n",
       "US-20010000028-A1  pharmaceutical       Houn Simon Hsia   i2     0.500000   \n",
       "US-20010000028-A1  pharmaceutical             David Fan   i3     0.003535   \n",
       "US-20010000176-A1  pharmaceutical  Hildegund C. J. Ertl  i16     0.500000   \n",
       "US-20010000345-A1  pharmaceutical      Thomas Lee Cupps  i33     0.003625   \n",
       "US-20010000345-A1  pharmaceutical     Sophie Eva Bogdan  i34     0.999104   \n",
       "\n",
       "                  sex_usuk  prob_fem_ssa  prob_fem_ipums  prob_fem_napp  \\\n",
       "guid                                                                      \n",
       "US-20010000028-A1        U        0.5000          0.5000         0.5000   \n",
       "US-20010000028-A1        M        0.0037          0.0021         0.0014   \n",
       "US-20010000176-A1        U        0.5000          0.5000         1.0000   \n",
       "US-20010000345-A1        M        0.0036          0.0022         0.0015   \n",
       "US-20010000345-A1        F        0.9993          0.9977         0.9973   \n",
       "\n",
       "                   prob_asian  prob_black  prob_hispanic  prob_white  \n",
       "guid                                                                  \n",
       "US-20010000028-A1    0.995565    0.000416       0.000301    0.003718  \n",
       "US-20010000028-A1    0.960605    0.003274       0.012613    0.023508  \n",
       "US-20010000176-A1    0.141032    0.602659       0.062040    0.194270  \n",
       "US-20010000345-A1    0.026053    0.206122       0.010723    0.757102  \n",
       "US-20010000345-A1    0.852571    0.084132       0.010371    0.052926  "
      ]
     },
     "execution_count": 55,
     "metadata": {},
     "output_type": "execute_result"
    }
   ],
   "source": [
    "pharmaceutical_inventors.head()"
   ]
  },
  {
   "cell_type": "code",
   "execution_count": 23,
   "metadata": {},
   "outputs": [],
   "source": [
    "pharmaceutical_inventors_not_male=pharmaceutical_inventors[(pharmaceutical_inventors['prob_fem_us']>=0.5) | (pharmaceutical_inventors['sex_usuk']!='M') | (pharmaceutical_inventors['prob_fem_ssa']>=0.5) | (pharmaceutical_inventors['prob_fem_ipums']>=0.5) | (pharmaceutical_inventors['prob_fem_napp']>=0.5)]"
   ]
  },
  {
   "cell_type": "code",
   "execution_count": 56,
   "metadata": {},
   "outputs": [],
   "source": [
    "pharmaceutical_inventors_not_male_fem_us=pharmaceutical_inventors[pharmaceutical_inventors['prob_fem_us']>=0.5]\n",
    "pharmaceutical_inventors_not_male_sex_usuk=pharmaceutical_inventors[pharmaceutical_inventors['sex_usuk']!='M']\n",
    "pharmaceutical_inventors_not_male_fem_ssa=pharmaceutical_inventors[pharmaceutical_inventors['prob_fem_ssa']>=0.5]\n",
    "pharmaceutical_inventors_not_male_fem_ipums=pharmaceutical_inventors[pharmaceutical_inventors['prob_fem_ipums']>=0.5]\n",
    "pharmaceutical_inventors_not_male_fem_napp=pharmaceutical_inventors[pharmaceutical_inventors['prob_fem_napp']>=0.5]"
   ]
  },
  {
   "cell_type": "code",
   "execution_count": 60,
   "metadata": {},
   "outputs": [
    {
     "name": "stdout",
     "output_type": "stream",
     "text": [
      "Percent not male (fem us) 42.13%\n",
      "Percent not male (sex usuk) 42.39%\n",
      "Percent not male (fem ssa) 43.09%\n",
      "Percent not male (fem ipums) 43.39%\n",
      "Percent not male (fem napp) 54.82%\n"
     ]
    }
   ],
   "source": [
    "percent_not_male_pharmaceutical_fem_us=(len(pharmaceutical_inventors_not_male_fem_us)*100)/len(pharmaceutical_inventors)\n",
    "print(\"Percent not male (fem us) \"+\"{:.2f}\".format(percent_not_male_pharmaceutical_fem_us)+\"%\")\n",
    "percent_not_male_pharmaceutical_sex_usuk=(len(pharmaceutical_inventors_not_male_sex_usuk)*100)/len(pharmaceutical_inventors)\n",
    "print(\"Percent not male (sex usuk) \"+\"{:.2f}\".format(percent_not_male_pharmaceutical_sex_usuk)+\"%\")\n",
    "percent_not_male_pharmaceutical_fem_ssa=(len(pharmaceutical_inventors_not_male_fem_ssa)*100)/len(pharmaceutical_inventors)\n",
    "print(\"Percent not male (fem ssa) \"+\"{:.2f}\".format(percent_not_male_pharmaceutical_fem_ssa)+\"%\")\n",
    "percent_not_male_pharmaceutical_fem_ipums=(len(pharmaceutical_inventors_not_male_fem_ipums)*100)/len(pharmaceutical_inventors)\n",
    "print(\"Percent not male (fem ipums) \"+\"{:.2f}\".format(percent_not_male_pharmaceutical_fem_ipums)+\"%\")\n",
    "percent_not_male_pharmaceutical_fem_napp=(len(pharmaceutical_inventors_not_male_fem_napp)*100)/len(pharmaceutical_inventors)\n",
    "print(\"Percent not male (fem napp) \"+\"{:.2f}\".format(percent_not_male_pharmaceutical_fem_napp)+\"%\")"
   ]
  },
  {
   "cell_type": "code",
   "execution_count": 24,
   "metadata": {},
   "outputs": [
    {
     "data": {
      "text/plain": [
       "385081"
      ]
     },
     "execution_count": 24,
     "metadata": {},
     "output_type": "execute_result"
    }
   ],
   "source": [
    "len(pharmaceutical_inventors)"
   ]
  },
  {
   "cell_type": "code",
   "execution_count": 25,
   "metadata": {},
   "outputs": [
    {
     "data": {
      "text/plain": [
       "222865"
      ]
     },
     "execution_count": 25,
     "metadata": {},
     "output_type": "execute_result"
    }
   ],
   "source": [
    "len(pharmaceutical_inventors_not_male)"
   ]
  },
  {
   "cell_type": "code",
   "execution_count": 26,
   "metadata": {},
   "outputs": [
    {
     "name": "stdout",
     "output_type": "stream",
     "text": [
      "57.874836722663545%\n"
     ]
    }
   ],
   "source": [
    "percent_not_male_pharmaceutical=(len(pharmaceutical_inventors_not_male)*100)/len(pharmaceutical_inventors)\n",
    "print(str(percent_not_male_pharmaceutical)+\"%\")"
   ]
  },
  {
   "cell_type": "code",
   "execution_count": 30,
   "metadata": {},
   "outputs": [
    {
     "data": {
      "text/plain": [
       "Toni WEINSCHENK             453\n",
       "Jens FRITSCHE               417\n",
       "Oliver SCHOOR               396\n",
       "Harpreet SINGH              368\n",
       "Andrea MAHR                 282\n",
       "                           ... \n",
       "David Timothy Macpherson      1\n",
       "Jian GAO                      1\n",
       "Ann Christina Schultz         1\n",
       "John DiJoseph                 1\n",
       "Jan Zaminer                   1\n",
       "Name: fullname, Length: 145866, dtype: int64"
      ]
     },
     "execution_count": 30,
     "metadata": {},
     "output_type": "execute_result"
    }
   ],
   "source": [
    "pharmaceutical_inventors['fullname'].value_counts()"
   ]
  },
  {
   "cell_type": "code",
   "execution_count": 33,
   "metadata": {},
   "outputs": [
    {
     "data": {
      "text/plain": [
       "Toni WEINSCHENK                               453\n",
       "Harpreet SINGH                                368\n",
       "Andrea MAHR                                   282\n",
       "Yat Sun Or                                    269\n",
       "Wenqing Yao                                   156\n",
       "                                             ... \n",
       "Mika Tapio REIJONEN                             1\n",
       "JOANNES BAPTIST ADRIANUS DIONISIUS VAN ZON      1\n",
       "Avlin Imaeda                                    1\n",
       "Grregory Edward Neal                            1\n",
       "Jan Zaminer                                     1\n",
       "Name: fullname, Length: 91847, dtype: int64"
      ]
     },
     "execution_count": 33,
     "metadata": {},
     "output_type": "execute_result"
    }
   ],
   "source": [
    "pharmaceutical_inventors_not_male['fullname'].value_counts()"
   ]
  },
  {
   "cell_type": "code",
   "execution_count": 32,
   "metadata": {},
   "outputs": [
    {
     "name": "stdout",
     "output_type": "stream",
     "text": [
      "62.96669546021691%\n"
     ]
    }
   ],
   "source": [
    "new_percent=(91847*100)/145866\n",
    "print(str(new_percent)+\"%\")"
   ]
  },
  {
   "cell_type": "code",
   "execution_count": null,
   "metadata": {},
   "outputs": [],
   "source": []
  },
  {
   "cell_type": "code",
   "execution_count": null,
   "metadata": {},
   "outputs": [],
   "source": []
  }
 ],
 "metadata": {
  "kernelspec": {
   "display_name": "Python 3",
   "language": "python",
   "name": "python3"
  },
  "language_info": {
   "codemirror_mode": {
    "name": "ipython",
    "version": 3
   },
   "file_extension": ".py",
   "mimetype": "text/x-python",
   "name": "python",
   "nbconvert_exporter": "python",
   "pygments_lexer": "ipython3",
   "version": "3.8.8"
  }
 },
 "nbformat": 4,
 "nbformat_minor": 4
}
